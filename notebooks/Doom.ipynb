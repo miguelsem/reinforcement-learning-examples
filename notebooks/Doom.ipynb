{
 "cells": [
  {
   "cell_type": "markdown",
   "metadata": {},
   "source": [
    "# Doom with Deep Q-Learning\n",
    "Based on [Thomas Simomini's example](https://github.com/simoninithomas/Deep_reinforcement_learning_Course)"
   ]
  },
  {
   "cell_type": "markdown",
   "metadata": {},
   "source": [
    "### Step 1: Import the libraries"
   ]
  },
  {
   "cell_type": "code",
   "execution_count": 3,
   "metadata": {},
   "outputs": [],
   "source": [
    "import tensorflow as tf\n",
    "import numpy as no\n",
    "from vizdoom import *\n",
    "\n",
    "import random\n",
    "import time\n",
    "import skimage\n",
    "\n",
    "from collections import deque\n",
    "import matplotlib.pyplot as plt\n",
    "\n",
    "import warnings\n",
    "warnings.filterwarnings('ignore')"
   ]
  },
  {
   "cell_type": "markdown",
   "metadata": {},
   "source": [
    "### Step 2: Create the environmnet\n",
    "\n",
    "Doom environment takes:\n",
    "\n",
    "- A configuration file that handle all the options (size of the frame, possible actions...)\n",
    "- A scenario file: that generates the correct scenario (in our case basic but you're invited to try other scenarios).\n",
    "\n",
    "Note: We have 3 possible actions [[0,0,1], [1,0,0], [0,1,0]]\n",
    "\n",
    "- A monster is spawned randomly somewhere along the opposite wall.\n",
    "- Player can only go left/right and shoot.\n",
    "- 1 hit is enough to kill the monster.\n",
    "- Episode finishes when monster is killed or on timeout (300).\n",
    "\n",
    "REWARDS:\n",
    "\n",
    "- +101 for killing the monster\n",
    "- -5 for missing\n",
    "- Episode ends after killing the monster or on timeout.\n",
    "- living reward = -1\n",
    "\n"
   ]
  },
  {
   "cell_type": "code",
   "execution_count": 6,
   "metadata": {},
   "outputs": [],
   "source": [
    "def create_environment():\n",
    "    game = DoomGame()\n",
    "    \n",
    "    # Scenarios path\n",
    "    s_path = \"C:\\\\Users\\\\Miguel\\\\AppData\\\\Local\\\\conda\\\\conda\\\\envs\\\\gym\\\\Lib\\\\site-packages\\\\vizdoom\\\\scenarios\\\\\"\n",
    "    # Load config\n",
    "    game.load_config(s_path + \"basic.cfg\")\n",
    "    # Load scenario\n",
    "    game.set_doom_scenario_path(s_path + \"basc.wad\")\n",
    "    \n",
    "    game.init()\n",
    "    \n",
    "    # Possible actions\n",
    "    left = [1, 0, 0]\n",
    "    right = [0, 1, 0]\n",
    "    shoot = [0, 0, 1]\n",
    "    possible_actions = [left, right, shoot]\n",
    "    \n",
    "    return game, possible_actions\n",
    "\n",
    "def test_environment():\n",
    "    game = DoomGame()\n",
    "    game.load_config(\"basic.cfg\")\n",
    "    game.set_doom_scenario_path(\"basic.wad\")\n",
    "    game.init()\n",
    "    shoot = [0, 0, 1]\n",
    "    left = [1, 0, 0]\n",
    "    right = [0, 1, 0]\n",
    "    actions = [shoot, left, right]\n",
    "    \n",
    "    episodes = 10\n",
    "    for i in range(episodes):\n",
    "        game.new_episode()\n",
    "        while not game.is_episode_finished():\n",
    "            state = game.get_state()\n",
    "            img = state.screen_buffer\n",
    "            misc = state.game_variables\n",
    "            action = random.choice(actions)\n",
    "            print(\"Action taken:\", action)\n",
    "            reward = game.make_action(action)\n",
    "            print(\"\\treward:\", reward)\n",
    "            time.sleep(0.02)\n",
    "        print(\"Result:\", game.get_total_reward())\n",
    "        time.sleep(2)\n",
    "    game.close()\n",
    "    "
   ]
  },
  {
   "cell_type": "code",
   "execution_count": 5,
   "metadata": {},
   "outputs": [
    {
     "ename": "FileDoesNotExistException",
     "evalue": "File \"basic.cfg\" does not exist.",
     "output_type": "error",
     "traceback": [
      "\u001b[1;31m---------------------------------------------------------------------------\u001b[0m",
      "\u001b[1;31mFileDoesNotExistException\u001b[0m                 Traceback (most recent call last)",
      "\u001b[1;32m<ipython-input-5-e00ebe60a50c>\u001b[0m in \u001b[0;36m<module>\u001b[1;34m()\u001b[0m\n\u001b[1;32m----> 1\u001b[1;33m \u001b[0mgame\u001b[0m\u001b[1;33m,\u001b[0m \u001b[0mpossible_actions\u001b[0m \u001b[1;33m=\u001b[0m \u001b[0mcreate_environment\u001b[0m\u001b[1;33m(\u001b[0m\u001b[1;33m)\u001b[0m\u001b[1;33m\u001b[0m\u001b[0m\n\u001b[0m",
      "\u001b[1;32m<ipython-input-4-f7c1ca4345d9>\u001b[0m in \u001b[0;36mcreate_environment\u001b[1;34m()\u001b[0m\n\u001b[0;32m      3\u001b[0m \u001b[1;33m\u001b[0m\u001b[0m\n\u001b[0;32m      4\u001b[0m     \u001b[1;31m# Load config\u001b[0m\u001b[1;33m\u001b[0m\u001b[1;33m\u001b[0m\u001b[0m\n\u001b[1;32m----> 5\u001b[1;33m     \u001b[0mgame\u001b[0m\u001b[1;33m.\u001b[0m\u001b[0mload_config\u001b[0m\u001b[1;33m(\u001b[0m\u001b[1;34m\"basic.cfg\"\u001b[0m\u001b[1;33m)\u001b[0m\u001b[1;33m\u001b[0m\u001b[0m\n\u001b[0m\u001b[0;32m      6\u001b[0m \u001b[1;33m\u001b[0m\u001b[0m\n\u001b[0;32m      7\u001b[0m     \u001b[1;31m# Load scenario\u001b[0m\u001b[1;33m\u001b[0m\u001b[1;33m\u001b[0m\u001b[0m\n",
      "\u001b[1;31mFileDoesNotExistException\u001b[0m: File \"basic.cfg\" does not exist."
     ]
    }
   ],
   "source": [
    "game, possible_actions = create_environment()"
   ]
  },
  {
   "cell_type": "markdown",
   "metadata": {},
   "source": [
    "for episode in max_episode:\n",
    "\n",
    "    s = Environment state\n",
    "    for steps in max_steps:\n",
    "         Choose action a from state s using epsilon greedy.\n",
    "         Take action a, get r (reward) and s' (next state)\n",
    "         Store experience tuple <s, a, r, s'> in M\n",
    "         s = s' (state = new_state)\n",
    "         \n",
    "         Get random minibatch of exp tuples from M\n",
    "         Set Q_target = reward(s,a) +  γmaxQ(s')\n",
    "         Update w =  α(Q_target - Q_value) *  ∇w Q_value"
   ]
  },
  {
   "cell_type": "code",
   "execution_count": null,
   "metadata": {},
   "outputs": [],
   "source": []
  }
 ],
 "metadata": {
  "kernelspec": {
   "display_name": "Python 3",
   "language": "python",
   "name": "python3"
  },
  "language_info": {
   "codemirror_mode": {
    "name": "ipython",
    "version": 3
   },
   "file_extension": ".py",
   "mimetype": "text/x-python",
   "name": "python",
   "nbconvert_exporter": "python",
   "pygments_lexer": "ipython3",
   "version": "3.6.4"
  }
 },
 "nbformat": 4,
 "nbformat_minor": 2
}
