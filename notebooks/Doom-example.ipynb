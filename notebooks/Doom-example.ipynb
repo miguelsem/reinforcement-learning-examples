{
 "cells": [
  {
   "cell_type": "markdown",
   "metadata": {},
   "source": [
    "# Doom with Deep Q-Learning\n",
    "Based on [Thomas Simomini's example](https://github.com/simoninithomas/Deep_reinforcement_learning_Course)"
   ]
  },
  {
   "cell_type": "markdown",
   "metadata": {},
   "source": [
    "## Step 1: Import the libraries"
   ]
  },
  {
   "cell_type": "code",
   "execution_count": 1,
   "metadata": {},
   "outputs": [
    {
     "name": "stderr",
     "output_type": "stream",
     "text": [
      "C:\\Users\\Miguel\\AppData\\Local\\conda\\conda\\envs\\gym\\lib\\site-packages\\h5py\\__init__.py:36: FutureWarning: Conversion of the second argument of issubdtype from `float` to `np.floating` is deprecated. In future, it will be treated as `np.float64 == np.dtype(float).type`.\n",
      "  from ._conv import register_converters as _register_converters\n"
     ]
    }
   ],
   "source": [
    "import tensorflow as tf\n",
    "import numpy as np\n",
    "from vizdoom import *\n",
    "\n",
    "import random\n",
    "import time\n",
    "import skimage\n",
    "\n",
    "from collections import deque\n",
    "import matplotlib.pyplot as plt\n",
    "\n",
    "import warnings\n",
    "warnings.filterwarnings('ignore')"
   ]
  },
  {
   "cell_type": "markdown",
   "metadata": {},
   "source": [
    "## Step 2: Create the environmnet\n",
    "\n",
    "Doom environment takes:\n",
    "\n",
    "- A configuration file that handle all the options (size of the frame, possible actions...)\n",
    "- A scenario file: that generates the correct scenario (in our case basic but you're invited to try other scenarios).\n",
    "\n",
    "Note: We have 3 possible actions [[0,0,1], [1,0,0], [0,1,0]]\n",
    "\n",
    "- A monster is spawned randomly somewhere along the opposite wall.\n",
    "- Player can only go left/right and shoot.\n",
    "- 1 hit is enough to kill the monster.\n",
    "- Episode finishes when monster is killed or on timeout (300).\n",
    "\n",
    "REWARDS:\n",
    "\n",
    "- +101 for killing the monster\n",
    "- -5 for missing\n",
    "- Episode ends after killing the monster or on timeout.\n",
    "- living reward = -1\n",
    "\n"
   ]
  },
  {
   "cell_type": "code",
   "execution_count": 2,
   "metadata": {},
   "outputs": [],
   "source": [
    "def create_environment():\n",
    "    game = DoomGame()\n",
    "    \n",
    "    # Scenarios path\n",
    "    s_path = \"C:\\\\Users\\\\Miguel\\\\AppData\\\\Local\\\\conda\\\\conda\\\\envs\\\\gym\\\\Lib\\\\site-packages\\\\vizdoom\\\\scenarios\\\\\"\n",
    "    # Load config\n",
    "    game.load_config(s_path + \"basic.cfg\")\n",
    "    # Load scenario\n",
    "    game.set_doom_scenario_path(s_path + \"basic.wad\")\n",
    "    \n",
    "    game.init()\n",
    "    \n",
    "    # Possible actions\n",
    "    left = [1, 0, 0]\n",
    "    right = [0, 1, 0]\n",
    "    shoot = [0, 0, 1]\n",
    "    possible_actions = [left, right, shoot]\n",
    "    \n",
    "    return game, possible_actions\n",
    "\n",
    "def test_environment():\n",
    "    game = DoomGame()\n",
    "    game.load_config(\"basic.cfg\")\n",
    "    game.set_doom_scenario_path(\"basic.wad\")\n",
    "    game.init()\n",
    "    shoot = [0, 0, 1]\n",
    "    left = [1, 0, 0]\n",
    "    right = [0, 1, 0]\n",
    "    actions = [shoot, left, right]\n",
    "    \n",
    "    episodes = 10\n",
    "    for i in range(episodes):\n",
    "        game.new_episode()\n",
    "        while not game.is_episode_finished():\n",
    "            state = game.get_state()\n",
    "            img = state.screen_buffer\n",
    "            misc = state.game_variables\n",
    "            action = random.choice(actions)\n",
    "            print(\"Action taken:\", action)\n",
    "            reward = game.make_action(action)\n",
    "            print(\"\\treward:\", reward)\n",
    "            time.sleep(0.02)\n",
    "        print(\"Result:\", game.get_total_reward())\n",
    "        time.sleep(2)\n",
    "    game.close()\n",
    "    "
   ]
  },
  {
   "cell_type": "code",
   "execution_count": 3,
   "metadata": {},
   "outputs": [],
   "source": [
    "game, possible_actions = create_environment()"
   ]
  },
  {
   "cell_type": "markdown",
   "metadata": {},
   "source": [
    "## Step 3: Define the preprocessing functions\n",
    "### preprocess_frame\n",
    "Used to reduce the complexity of our states and thus reduce computation time needed for training"
   ]
  },
  {
   "cell_type": "code",
   "execution_count": 4,
   "metadata": {},
   "outputs": [],
   "source": [
    "def preprocess_frame(frame):\n",
    "    # Grayscale each frame (already done on config file)\n",
    "    \n",
    "    # Crop the screen\n",
    "    cropped_frame = frame[30:-10, 30:-30]\n",
    "    \n",
    "    # Normalize pixel values\n",
    "    normalized_frame = cropped_frame/255.0\n",
    "    \n",
    "    # Resize preprocessed frame\n",
    "    proprocessed_frame = transform.resize(normalized_frame, [84,84])\n",
    "    \n",
    "    return preprocessed_frame"
   ]
  },
  {
   "cell_type": "markdown",
   "metadata": {},
   "source": [
    "### stack_frames\n",
    "Give a sense of motion to the NN"
   ]
  },
  {
   "cell_type": "code",
   "execution_count": 5,
   "metadata": {},
   "outputs": [],
   "source": [
    "stack_size = 4\n",
    "\n",
    "stacked_frames = deque([np.zeros((84,84), dtype=np.int) for i in range(stack_size)], maxlen=4)\n",
    "\n",
    "def stacked_frames(stacked_frames, state, is_new_episode):\n",
    "    # Preprocess frame\n",
    "    frame = preprocess_frame(state)\n",
    "    \n",
    "    if is_new_episode:\n",
    "        # Clear our stacked_frames\n",
    "        stacked_frames = deque([np.zeros((84,84), dtype=np.int) for i in range(stack_size)], maxlen=4)\n",
    "\n",
    "        # Because we're in a new episode, copy the same frame 4x\n",
    "        for i in range(4):\n",
    "            stacked_frames.append(frame)\n",
    "        \n",
    "        # Stack the frames\n",
    "        stacked_state = np.stack(stacked_frames, axis=2)\n",
    "        \n",
    "    else:\n",
    "        # Append frame to deque, automatically removes the oldest frame\n",
    "        stacked_frames.apped(frame)\n",
    "        \n",
    "        # Build the stacked state (first dimension specifies different frames)\n",
    "        stacked_state = np.stack(stacked_frames, axis=2)\n",
    "        \n",
    "    return stacked_state, stacked_frames\n"
   ]
  },
  {
   "cell_type": "markdown",
   "metadata": {},
   "source": [
    "## Step 4: Set up our hyperparameters\n"
   ]
  },
  {
   "cell_type": "code",
   "execution_count": 6,
   "metadata": {},
   "outputs": [],
   "source": [
    "### Model hyperparameters\n",
    "state_size = [84,84,4]\n",
    "action_size = game.get_available_buttons_size()\n",
    "learning_rate = 0.002\n",
    "\n",
    "### Training hyperparameters\n",
    "total_episodes = 500\n",
    "max_steps = 100\n",
    "batch_size = 64\n",
    "\n",
    "# Exploration parameters for epsilon greedy strategy\n",
    "explore_start = 1.0\n",
    "explore_stop = 0.01\n",
    "decay_rate = 0.0001\n",
    "\n",
    "# Q-learning hyperparameters\n",
    "gamme = 0.95                    # Discount rate\n",
    "\n",
    "### Memory hyperparameters\n",
    "pretrain_length = batch_size    # Number of exp stored in memory when init\n",
    "memory_size = 1000000           # Number of experiences memory can keep\n",
    "\n",
    "### This to FALSE to just see the trained agent\n",
    "training = True\n",
    "\n",
    "### This to TRUE to render the environment\n",
    "episode_render = False"
   ]
  },
  {
   "cell_type": "markdown",
   "metadata": {},
   "source": [
    "## Step 5: Create the Deep Q-learning Neural Network model"
   ]
  },
  {
   "cell_type": "code",
   "execution_count": 13,
   "metadata": {},
   "outputs": [],
   "source": [
    "class DQNetwork:\n",
    "    def __init__(self, state_size, action_size, learning_rate, name='DQNetwork'):\n",
    "        self.state_size = state_size\n",
    "        self.action_size = action_size\n",
    "        self.learning_rate = learning_rate\n",
    "        \n",
    "        with tf.variable_scope(name):\n",
    "            # Create placeholders\n",
    "            # [None, 84, 84, 4]\n",
    "            self.inputs_ = tf.placeholder(tf.float32, [None, *state_size], name=\"inputs\")\n",
    "            self.actions_ = tf.placeholder(tf.float32, [None, 3], name=\"actons_\")\n",
    "            \n",
    "            self.target_Q = tf.placeholder(tf.float32, [None], name=\"target\")\n",
    "            \n",
    "            # First convnet: CNN, BatchNormalization, ELU\n",
    "            # Input is 84x84x84\n",
    "            self.conv1 = tf.layers.conv2d(inputs = self.inputs_, \n",
    "                                          filters = 32,\n",
    "                                          kernel_size = [8,8],\n",
    "                                          strides = [4,4],\n",
    "                                          padding = \"VALID\",\n",
    "                                          kernel_initializer = tf.contrib.layers.xavier_initializer_conv2d(),\n",
    "                                          name = \"conv1\")\n",
    "            \n",
    "            self.conv1_batchnorm = tf.layers.batch_normalization(self.conv1,\n",
    "                                                                 training = True,\n",
    "                                                                 epsilon = 1e-5,\n",
    "                                                                 name = 'batch_norm1')\n",
    "            \n",
    "            self.conv1_out = tf.nn.elu(self.conv1_batchnorm, name=\"conv1_out\")\n",
    "            # --> [20, 20, 32]\n",
    "            \n",
    "            # Second convnet: CNN, BatchNormalization, ELU\n",
    "            self.conv2 = tf.layers.conv2d(inputs = self.conv1_out,\n",
    "                                          filters = 64,\n",
    "                                          kernel_size = [4,4],\n",
    "                                          strides = [2,2],\n",
    "                                          padding = \"VALID\",\n",
    "                                          kernel_initializer = tf.contrib.layers.xavier_initializer_conv2d(),\n",
    "                                          name = \"conv2\")\n",
    "            \n",
    "            self.conv2_batchnorm = tf.layers.batch_normalization(self.conv2,\n",
    "                                                                 training = True,\n",
    "                                                                 epsilon = 1e-5,\n",
    "                                                                 name = 'batch_norm2')\n",
    "            \n",
    "            self.conv2_out = tf.nn.elu(self.conv2_batchnorm, name=\"conv2_out\")\n",
    "            # --> [9, 9, 64]\n",
    "            \n",
    "            # Third convnet: CNN, BatchNormalization, ELU\n",
    "            self.conv3 = tf.layers.conv2d(inputs = self.conv2_out,\n",
    "                                          filters = 128,\n",
    "                                          kernel_size = [4,4],\n",
    "                                          strides = [2,2],\n",
    "                                          padding = \"VALID\",\n",
    "                                          kernel_initializer = tf.contrib.layers.xavier_initializer_conv2d(),\n",
    "                                          name = \"conv3\")\n",
    "            \n",
    "            self.conv3_batchnorm = tf.layers.batch_normalization(self.conv3,\n",
    "                                                                 training = True,\n",
    "                                                                 epsilon = 1e-5,\n",
    "                                                                 name = 'batch_norm3')\n",
    "            \n",
    "            self.conv3_out = tf.nn.elu(self.conv3_batchnorm, name=\"conv3_out\")\n",
    "            # --> [3, 3, 128]\n",
    "            \n",
    "            self.flatten = tf.layers.flatten(self.conv3_out)\n",
    "            # --> [1152]\n",
    "            \n",
    "            self.fc = tf.layers.dense(inputs = self.flatten,\n",
    "                                      units = 512,\n",
    "                                      activation = tf.nn.elu,\n",
    "                                      kernel_initializer = tf.contrib.layers.xavier_initializer(),\n",
    "                                      name = \"fc1\")\n",
    "            \n",
    "            self.output = tf.layers.dense(inputs = self.fc,\n",
    "                                          kernel_initializer = tf.contrib.layers.xavier_initializer(),\n",
    "                                          units = 3,\n",
    "                                          activation = None)\n",
    "            \n",
    "            # Q is our predicted Q value\n",
    "            self.Q = tf.reduce_sum(tf.multiply(self.output, self.actions_), axis=1)\n",
    "            \n",
    "            self.loss = tf.reduce_mean(tf.square(self.target_Q - self.Q))\n",
    "            \n",
    "            self.optimizer = tf.train.RMSPropOptimizer(self.learning_rate).minimize(self.loss)          \n",
    "            "
   ]
  },
  {
   "cell_type": "code",
   "execution_count": 14,
   "metadata": {},
   "outputs": [],
   "source": [
    "# Reset the graph\n",
    "tf.reset_default_graph()\n",
    "\n",
    "# Instantiate the DQNetwork\n",
    "DQNetwork = DQNetwork(state_size, action_size, learning_rate)"
   ]
  },
  {
   "cell_type": "markdown",
   "metadata": {},
   "source": [
    "# Step 6: Experience Replay"
   ]
  },
  {
   "cell_type": "code",
   "execution_count": null,
   "metadata": {},
   "outputs": [],
   "source": []
  }
 ],
 "metadata": {
  "kernelspec": {
   "display_name": "Python 3",
   "language": "python",
   "name": "python3"
  },
  "language_info": {
   "codemirror_mode": {
    "name": "ipython",
    "version": 3
   },
   "file_extension": ".py",
   "mimetype": "text/x-python",
   "name": "python",
   "nbconvert_exporter": "python",
   "pygments_lexer": "ipython3",
   "version": "3.6.4"
  }
 },
 "nbformat": 4,
 "nbformat_minor": 2
}
