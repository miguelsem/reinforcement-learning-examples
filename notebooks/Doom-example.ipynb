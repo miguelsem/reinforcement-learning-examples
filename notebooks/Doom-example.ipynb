{
 "cells": [
  {
   "cell_type": "markdown",
   "metadata": {},
   "source": [
    "# Doom with Deep Q-Learning\n",
    "Based on [Thomas Simomini's example](https://github.com/simoninithomas/Deep_reinforcement_learning_Course)"
   ]
  },
  {
   "cell_type": "markdown",
   "metadata": {},
   "source": [
    "## Step 1: Import the libraries"
   ]
  },
  {
   "cell_type": "code",
   "execution_count": 10,
   "metadata": {},
   "outputs": [],
   "source": [
    "import tensorflow as tf\n",
    "import numpy as np\n",
    "from vizdoom import *\n",
    "\n",
    "import random\n",
    "import time\n",
    "import skimage\n",
    "\n",
    "from collections import deque\n",
    "import matplotlib.pyplot as plt\n",
    "\n",
    "import warnings\n",
    "warnings.filterwarnings('ignore')"
   ]
  },
  {
   "cell_type": "markdown",
   "metadata": {},
   "source": [
    "## Step 2: Create the environmnet\n",
    "\n",
    "Doom environment takes:\n",
    "\n",
    "- A configuration file that handle all the options (size of the frame, possible actions...)\n",
    "- A scenario file: that generates the correct scenario (in our case basic but you're invited to try other scenarios).\n",
    "\n",
    "Note: We have 3 possible actions [[0,0,1], [1,0,0], [0,1,0]]\n",
    "\n",
    "- A monster is spawned randomly somewhere along the opposite wall.\n",
    "- Player can only go left/right and shoot.\n",
    "- 1 hit is enough to kill the monster.\n",
    "- Episode finishes when monster is killed or on timeout (300).\n",
    "\n",
    "REWARDS:\n",
    "\n",
    "- +101 for killing the monster\n",
    "- -5 for missing\n",
    "- Episode ends after killing the monster or on timeout.\n",
    "- living reward = -1\n",
    "\n"
   ]
  },
  {
   "cell_type": "code",
   "execution_count": 4,
   "metadata": {},
   "outputs": [],
   "source": [
    "def create_environment():\n",
    "    game = DoomGame()\n",
    "    \n",
    "    # Scenarios path\n",
    "    s_path = \"C:\\\\Users\\\\Miguel\\\\AppData\\\\Local\\\\conda\\\\conda\\\\envs\\\\gym\\\\Lib\\\\site-packages\\\\vizdoom\\\\scenarios\\\\\"\n",
    "    # Load config\n",
    "    game.load_config(s_path + \"basic.cfg\")\n",
    "    # Load scenario\n",
    "    game.set_doom_scenario_path(s_path + \"basic.wad\")\n",
    "    \n",
    "    game.init()\n",
    "    \n",
    "    # Possible actions\n",
    "    left = [1, 0, 0]\n",
    "    right = [0, 1, 0]\n",
    "    shoot = [0, 0, 1]\n",
    "    possible_actions = [left, right, shoot]\n",
    "    \n",
    "    return game, possible_actions\n",
    "\n",
    "def test_environment():\n",
    "    game = DoomGame()\n",
    "    game.load_config(\"basic.cfg\")\n",
    "    game.set_doom_scenario_path(\"basic.wad\")\n",
    "    game.init()\n",
    "    shoot = [0, 0, 1]\n",
    "    left = [1, 0, 0]\n",
    "    right = [0, 1, 0]\n",
    "    actions = [shoot, left, right]\n",
    "    \n",
    "    episodes = 10\n",
    "    for i in range(episodes):\n",
    "        game.new_episode()\n",
    "        while not game.is_episode_finished():\n",
    "            state = game.get_state()\n",
    "            img = state.screen_buffer\n",
    "            misc = state.game_variables\n",
    "            action = random.choice(actions)\n",
    "            print(\"Action taken:\", action)\n",
    "            reward = game.make_action(action)\n",
    "            print(\"\\treward:\", reward)\n",
    "            time.sleep(0.02)\n",
    "        print(\"Result:\", game.get_total_reward())\n",
    "        time.sleep(2)\n",
    "    game.close()\n",
    "    "
   ]
  },
  {
   "cell_type": "code",
   "execution_count": 5,
   "metadata": {},
   "outputs": [],
   "source": [
    "game, possible_actions = create_environment()"
   ]
  },
  {
   "cell_type": "markdown",
   "metadata": {},
   "source": [
    "## Step 3: Define the preprocessing functions\n",
    "### preprocess_frame\n",
    "Used to reduce the complexity of our states and thus reduce computation time needed for training"
   ]
  },
  {
   "cell_type": "code",
   "execution_count": 6,
   "metadata": {},
   "outputs": [],
   "source": [
    "def preprocess_frame(frame):\n",
    "    # Grayscale each frame (already done on config file)\n",
    "    \n",
    "    # Crop the screen\n",
    "    cropped_frame = frame[30:-10, 30:-30]\n",
    "    \n",
    "    # Normalize pixel values\n",
    "    normalized_frame = cropped_frame/255.0\n",
    "    \n",
    "    # Resize preprocessed frame\n",
    "    proprocessed_frame = transform.resize(normalized_frame, [84,84])\n",
    "    \n",
    "    return preprocessed_frame"
   ]
  },
  {
   "cell_type": "markdown",
   "metadata": {},
   "source": [
    "### stack_frames\n",
    "Give a sense of motion to the NN"
   ]
  },
  {
   "cell_type": "code",
   "execution_count": 11,
   "metadata": {},
   "outputs": [],
   "source": [
    "stack_size = 4\n",
    "\n",
    "stacked_frames = deque([np.zeros((84,84), dtype=np.int) for i in range(stack_size)], maxlen=4)\n",
    "\n",
    "def stacked_frames(stacked_frames, state, is_new_episode):\n",
    "    # Preprocess frame\n",
    "    frame = preprocess_frame(state)\n",
    "    \n",
    "    if is_new_episode:\n",
    "        # Clear our stacked_frames\n",
    "        stacked_frames = deque([np.zeros((84,84), dtype=np.int) for i in range(stack_size)], maxlen=4)\n",
    "\n",
    "        # Because we're in a new episode, copy the same frame 4x\n",
    "        for i in range(4):\n",
    "            stacked_frames.append(frame)\n",
    "        \n",
    "        # Stack the frames\n",
    "        stacked_state = np.stack(stacked_frames, axis=2)\n",
    "        \n",
    "    else:\n",
    "        # Append frame to deque, automatically removes the oldest frame\n",
    "        stacked_frames.apped(frame)\n",
    "        \n",
    "        # Build the stacked state (first dimension specifies different frames)\n",
    "        stacked_state = np.stack(stacked_frames, axis=2)\n",
    "        \n",
    "    return stacked_state, stacked_frames\n"
   ]
  },
  {
   "cell_type": "markdown",
   "metadata": {},
   "source": [
    "## Step 4: Set up our hyperparameters\n"
   ]
  },
  {
   "cell_type": "code",
   "execution_count": 12,
   "metadata": {},
   "outputs": [],
   "source": [
    "### Model hyperparameters\n",
    "state_size = [84,84,4]\n",
    "action_size = game.get_available_buttons_size()\n",
    "learning_rate = 0.002\n",
    "\n",
    "### Training hyperparameters\n",
    "total_episodes = 500\n",
    "max_steps = 100\n",
    "batch_size = 64\n",
    "\n",
    "# Exploration parameters for epsilon greedy strategy\n",
    "explore_start = 1.0\n",
    "explore_stop = 0.01\n",
    "decay_rate = 0.0001\n",
    "\n",
    "# Q-learning hyperparameters\n",
    "gamme = 0.95                    # Discount rate\n",
    "\n",
    "### Memory hyperparameters\n",
    "pretrain_length = batch_size    # Number of exp stored in memory when init\n",
    "memory_size = 1000000           # Number of experiences memory can keep\n",
    "\n",
    "### This to FALSE to just see the trained agent\n",
    "training = True\n",
    "\n",
    "### This to TRUE to render the environment\n",
    "episode_render = False"
   ]
  },
  {
   "cell_type": "markdown",
   "metadata": {},
   "source": [
    "## Step 5: Create the Deep Q-learning Neural Network model"
   ]
  },
  {
   "cell_type": "code",
   "execution_count": null,
   "metadata": {},
   "outputs": [],
   "source": []
  }
 ],
 "metadata": {
  "kernelspec": {
   "display_name": "Python 3",
   "language": "python",
   "name": "python3"
  },
  "language_info": {
   "codemirror_mode": {
    "name": "ipython",
    "version": 3
   },
   "file_extension": ".py",
   "mimetype": "text/x-python",
   "name": "python",
   "nbconvert_exporter": "python",
   "pygments_lexer": "ipython3",
   "version": "3.6.4"
  }
 },
 "nbformat": 4,
 "nbformat_minor": 2
}
